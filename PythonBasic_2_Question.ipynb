{
  "nbformat": 4,
  "nbformat_minor": 0,
  "metadata": {
    "colab": {
      "provenance": [],
      "include_colab_link": true
    },
    "kernelspec": {
      "name": "python3",
      "display_name": "Python 3"
    },
    "language_info": {
      "name": "python"
    }
  },
  "cells": [
    {
      "cell_type": "markdown",
      "metadata": {
        "id": "view-in-github",
        "colab_type": "text"
      },
      "source": [
        "<a href=\"https://colab.research.google.com/github/Futa4025/prmn2023a/blob/main/PythonBasic_2_Question.ipynb\" target=\"_parent\"><img src=\"https://colab.research.google.com/assets/colab-badge.svg\" alt=\"Open In Colab\"/></a>"
      ]
    },
    {
      "cell_type": "markdown",
      "source": [
        "# 第2章 課題"
      ],
      "metadata": {
        "id": "C44SsXDACtHu"
      }
    },
    {
      "cell_type": "markdown",
      "source": [
        "## 課題1"
      ],
      "metadata": {
        "id": "OnkezWHRCwr9"
      }
    },
    {
      "cell_type": "markdown",
      "source": [
        "for文を使って、以下のように出力してください"
      ],
      "metadata": {
        "id": "q32rK-cECzCl"
      }
    },
    {
      "cell_type": "markdown",
      "source": [
        "![oSFeQoX.png](https://i.imgur.com/oSFeQoX.png)"
      ],
      "metadata": {
        "id": "FxMcxznVB6cI"
      }
    },
    {
      "cell_type": "code",
      "source": [
        "n=4\n",
        "for i in range(1,n+1):\n",
        "  print(' '*(n-i)+'*'*(2*i-1))"
      ],
      "metadata": {
        "id": "iBFSsrdRC5Zt",
        "outputId": "fb78eb99-92f7-4554-fefe-da921612de2a",
        "colab": {
          "base_uri": "https://localhost:8080/"
        }
      },
      "execution_count": 1,
      "outputs": [
        {
          "output_type": "stream",
          "name": "stdout",
          "text": [
            "   *\n",
            "  ***\n",
            " *****\n",
            "*******\n"
          ]
        }
      ]
    },
    {
      "cell_type": "code",
      "source": [
        "n=4\n",
        "for i in range(1,n+1):\n",
        "  print(' '*(n-i)+'*'*(2*i-1))"
      ],
      "metadata": {
        "id": "Vwrl3HzbCDdu",
        "outputId": "9db1ea75-09da-4e34-8a96-14161221045a",
        "colab": {
          "base_uri": "https://localhost:8080/"
        }
      },
      "execution_count": 2,
      "outputs": [
        {
          "output_type": "stream",
          "name": "stdout",
          "text": [
            "   *\n",
            "  ***\n",
            " *****\n",
            "*******\n"
          ]
        }
      ]
    },
    {
      "cell_type": "markdown",
      "source": [
        "## 課題2"
      ],
      "metadata": {
        "id": "gIn-UqGTCagu"
      }
    },
    {
      "cell_type": "markdown",
      "source": [
        "課題1の場合を`n=4`として、nを自分で設定して出力できるようにしてください"
      ],
      "metadata": {
        "id": "ltdiEdqYDFy8"
      }
    },
    {
      "cell_type": "markdown",
      "source": [
        "＜例＞ n=5の場合  \n",
        "![o5NjugQ.png](https://imgur.com/o5NjugQ.png)"
      ],
      "metadata": {
        "id": "hw0FM8BRDHz1"
      }
    },
    {
      "cell_type": "code",
      "source": [
        "# 入力用\n",
        "n = int(input('nを入力'))\n",
        "for i in range(1,n+1):\n",
        "  print(' '*(n-i)+'*'*(2*i-1))"
      ],
      "metadata": {
        "id": "upd76Tv-FrIB",
        "outputId": "28c6da1f-f740-4cc2-9ce2-974c49523ad3",
        "colab": {
          "base_uri": "https://localhost:8080/"
        }
      },
      "execution_count": 3,
      "outputs": [
        {
          "output_type": "stream",
          "name": "stdout",
          "text": [
            "nを入力5\n",
            "    *\n",
            "   ***\n",
            "  *****\n",
            " *******\n",
            "*********\n"
          ]
        }
      ]
    },
    {
      "cell_type": "markdown",
      "source": [
        "## 課題3"
      ],
      "metadata": {
        "id": "tLMJvwBDE7wT"
      }
    },
    {
      "cell_type": "markdown",
      "source": [
        "for文を使って、以下のように出力してください"
      ],
      "metadata": {
        "id": "vZNvWsG7E99q"
      }
    },
    {
      "cell_type": "markdown",
      "source": [
        "![oSirXec.png](https://imgur.com/oSirXec.png)"
      ],
      "metadata": {
        "id": "ijOV-ilXGDNR"
      }
    },
    {
      "cell_type": "code",
      "source": [
        "# 入力用\n",
        "n=4\n",
        "for i in range(1,n+1):\n",
        "   print(' '*(n-i)+'*'*(2*i-1))\n",
        "for i in range(n,0,-1):\n",
        "   print(' '*(n-i)+'*'*(2*i-1))"
      ],
      "metadata": {
        "id": "Q5Ob9uZpGIE3",
        "outputId": "932eb786-f0bd-47c7-8ff3-e3b8f9b7d1d5",
        "colab": {
          "base_uri": "https://localhost:8080/"
        }
      },
      "execution_count": 4,
      "outputs": [
        {
          "output_type": "stream",
          "name": "stdout",
          "text": [
            "   *\n",
            "  ***\n",
            " *****\n",
            "*******\n",
            "*******\n",
            " *****\n",
            "  ***\n",
            "   *\n"
          ]
        }
      ]
    },
    {
      "cell_type": "markdown",
      "source": [
        "## 課題4"
      ],
      "metadata": {
        "id": "Oh7whOPkGQ3I"
      }
    },
    {
      "cell_type": "markdown",
      "source": [
        "課題3の場合を`n=4`として、nを自分で設定して出力できるようにしてください"
      ],
      "metadata": {
        "id": "PnvT8MQbGS03"
      }
    },
    {
      "cell_type": "markdown",
      "source": [
        "＜例＞ n=5の場合  \n",
        "\n",
        "![my4J17V.png](https://i.imgur.com/my4J17V.png)"
      ],
      "metadata": {
        "id": "ZujkAbVMGzhn"
      }
    },
    {
      "cell_type": "code",
      "source": [
        "# 入力用\n",
        "n = int(input('nを入力'))\n",
        "for i in range(1,n+1):\n",
        "   print(' '*(n-i)+'*'*(2*i-1))\n",
        "for i in range(n,0,-1):\n",
        "   print(' '*(n-i)+'*'*(2*i-1))"
      ],
      "metadata": {
        "id": "hCFNQ7mWG99u",
        "outputId": "a6e8b6a5-db9b-43ca-c8c0-a0c6f5cc4ccd",
        "colab": {
          "base_uri": "https://localhost:8080/"
        }
      },
      "execution_count": 5,
      "outputs": [
        {
          "output_type": "stream",
          "name": "stdout",
          "text": [
            "nを入力5\n",
            "    *\n",
            "   ***\n",
            "  *****\n",
            " *******\n",
            "*********\n",
            "*********\n",
            " *******\n",
            "  *****\n",
            "   ***\n",
            "    *\n"
          ]
        }
      ]
    },
    {
      "cell_type": "markdown",
      "source": [
        "## 課題5"
      ],
      "metadata": {
        "id": "R2MvOK4wHJlK"
      }
    },
    {
      "cell_type": "markdown",
      "source": [
        "for文を使って、以下のように出力してください"
      ],
      "metadata": {
        "id": "ddMIUoaKHcwd"
      }
    },
    {
      "cell_type": "markdown",
      "source": [
        "![vDUi5eM.png](https://imgur.com/vDUi5eM.png)"
      ],
      "metadata": {
        "id": "CD1cVUlWHLVO"
      }
    },
    {
      "cell_type": "code",
      "source": [
        "# 入力用\n",
        "for i in range(1, n+1):\n",
        "    print(\" \" * (n - i), end=\"\")\n",
        "    print(\"*\" * (2 * i - 1), end=\"\")\n",
        "    print(\" \" * 4, end=\"\")\n",
        "    print(\" \" * (n - i), end=\"\")\n",
        "    print(\"*\" * (2 * i - 1))\n",
        "for i in range(n-1, 0, -1):\n",
        "    print(\" \" * (n - i), end=\"\")\n",
        "    print(\"*\" * (2 * i - 1), end=\"\")\n",
        "    print(\" \" * 4, end=\"\")\n",
        "    print(\" \" * (n - i), end=\"\")\n",
        "    print(\"*\" * (2 * i - 1))"
      ],
      "metadata": {
        "id": "1pDkfJpUHd93",
        "outputId": "a05ef3db-c6dc-4fb6-b2d9-3d772488c29b",
        "colab": {
          "base_uri": "https://localhost:8080/"
        }
      },
      "execution_count": 13,
      "outputs": [
        {
          "output_type": "stream",
          "name": "stdout",
          "text": [
            "    *        *\n",
            "   ***       ***\n",
            "  *****      *****\n",
            " *******     *******\n",
            "*********    *********\n",
            " *******     *******\n",
            "  *****      *****\n",
            "   ***       ***\n",
            "    *        *\n"
          ]
        }
      ]
    },
    {
      "cell_type": "markdown",
      "source": [
        "## 課題6"
      ],
      "metadata": {
        "id": "oubbafOBHerl"
      }
    },
    {
      "cell_type": "markdown",
      "source": [
        "課題5の場合を`n=4`として、nを自分で設定して出力できるようにしてください"
      ],
      "metadata": {
        "id": "7SzgFdC-HzG9"
      }
    },
    {
      "cell_type": "markdown",
      "source": [
        "＜例＞ n=5の場合  \n",
        "\n",
        "![udkVlYG.png](https://imgur.com/udkVlYG.png)"
      ],
      "metadata": {
        "id": "LY8g9PVPH2OW"
      }
    },
    {
      "cell_type": "code",
      "source": [
        "# 入力用\n",
        "n = int(input('nを入力'))\n",
        "for i in range(1, n+1):\n",
        "    print(\" \" * (n - i), end=\"\")\n",
        "    print(\"*\" * (2 * i - 1), end=\"\")\n",
        "    print(\" \" * 4, end=\"\")\n",
        "    print(\" \" * (n - i), end=\"\")\n",
        "    print(\"*\" * (2 * i - 1))\n",
        "for i in range(n-1, 0, -1):\n",
        "    print(\" \" * (n - i), end=\"\")\n",
        "    print(\"*\" * (2 * i - 1), end=\"\")\n",
        "    print(\" \" * 4, end=\"\")\n",
        "    print(\" \" * (n - i), end=\"\")\n",
        "    print(\"*\" * (2 * i - 1))\n"
      ],
      "metadata": {
        "id": "XZOK5ulbH-tu",
        "outputId": "151648f7-15be-42f0-dc83-ef4e5c2457b8",
        "colab": {
          "base_uri": "https://localhost:8080/"
        }
      },
      "execution_count": 14,
      "outputs": [
        {
          "output_type": "stream",
          "name": "stdout",
          "text": [
            "nを入力５\n",
            "    *        *\n",
            "   ***       ***\n",
            "  *****      *****\n",
            " *******     *******\n",
            "*********    *********\n",
            " *******     *******\n",
            "  *****      *****\n",
            "   ***       ***\n",
            "    *        *\n"
          ]
        }
      ]
    },
    {
      "cell_type": "markdown",
      "source": [
        "## 課題7"
      ],
      "metadata": {
        "id": "ouqTUmPQIKGF"
      }
    },
    {
      "cell_type": "markdown",
      "source": [
        "for文を使って、以下のように出力してください"
      ],
      "metadata": {
        "id": "WHSxdOHuIMRM"
      }
    },
    {
      "cell_type": "markdown",
      "source": [
        "![IuP0M16.png](https://imgur.com/IuP0M16.png)"
      ],
      "metadata": {
        "id": "-G--WFTkIM8s"
      }
    },
    {
      "cell_type": "code",
      "source": [
        "\n",
        "n = 5\n",
        "\n",
        "for i in range(1, n + 1):\n",
        "    print(\" \" * (n - i), end=\"\")\n",
        "    print(\"*\" * (2 * i - 1), end=\"\")\n",
        "    print(\" \" * 4, end=\"\")\n",
        "    print(\" \" * (n - i), end=\"\")\n",
        "    print(\"*\" * (2 * i - 1))\n",
        "\n",
        "for i in range(n - 1, 0, -1):\n",
        "    print(\" \" * (n - i), end=\"\")\n",
        "    print(\"*\" * (2 * i - 1), end=\"\")\n",
        "    print(\" \" * 4, end=\"\")\n",
        "    print(\" \" * (n - i), end=\"\")\n",
        "    print(\"*\" * (2 * i - 1))\n",
        "\n",
        "print()  \n",
        "\n",
        "for i in range(1, n + 1):\n",
        "    print(\" \" * (n - i), end=\"\")\n",
        "    print(\"*\" * (2 * i - 1), end=\"\")\n",
        "    print(\" \" * 4, end=\"\")\n",
        "    print(\" \" * (n - i), end=\"\")\n",
        "    print(\"*\" * (2 * i - 1))\n",
        "\n",
        "for i in range(n - 1, 0, -1):\n",
        "    print(\" \" * (n - i), end=\"\")\n",
        "    print(\"*\" * (2 * i - 1), end=\"\")\n",
        "    print(\" \" * 4, end=\"\")\n",
        "    print(\" \" * (n - i), end=\"\")\n",
        "    print(\"*\" * (2 * i - 1))\n",
        "\n",
        "\n",
        "\n",
        "\n",
        "\n",
        "\n"
      ],
      "metadata": {
        "id": "BVXjDteuIijL",
        "outputId": "00c323e9-7d9a-4f8d-c63b-189762ee3de7",
        "colab": {
          "base_uri": "https://localhost:8080/"
        }
      },
      "execution_count": 15,
      "outputs": [
        {
          "output_type": "stream",
          "name": "stdout",
          "text": [
            "    *        *\n",
            "   ***       ***\n",
            "  *****      *****\n",
            " *******     *******\n",
            "*********    *********\n",
            " *******     *******\n",
            "  *****      *****\n",
            "   ***       ***\n",
            "    *        *\n",
            "\n",
            "    *        *\n",
            "   ***       ***\n",
            "  *****      *****\n",
            " *******     *******\n",
            "*********    *********\n",
            " *******     *******\n",
            "  *****      *****\n",
            "   ***       ***\n",
            "    *        *\n"
          ]
        }
      ]
    },
    {
      "cell_type": "markdown",
      "source": [
        "## 課題8"
      ],
      "metadata": {
        "id": "31u0ExX2IjWj"
      }
    },
    {
      "cell_type": "markdown",
      "source": [
        "課題7の場合を`n=4`として、nを自分で設定して出力できるようにしてください"
      ],
      "metadata": {
        "id": "zeOvmKarInpz"
      }
    },
    {
      "cell_type": "markdown",
      "source": [
        "＜例＞ n=5の場合  \n",
        "\n",
        "![AlTnu1k.png](https://imgur.com/AlTnu1k.png)"
      ],
      "metadata": {
        "id": "2uLR5sbKIov2"
      }
    },
    {
      "cell_type": "code",
      "source": [
        "# 入力用\n",
        "n = int(input('nを入力'))\n",
        "for i in range(1, n + 1):\n",
        "    print(\" \" * (n - i), end=\"\")\n",
        "    print(\"*\" * (2 * i - 1), end=\"\")\n",
        "    print(\" \" * 4, end=\"\")\n",
        "    print(\" \" * (n - i), end=\"\")\n",
        "    print(\"*\" * (2 * i - 1))\n",
        "\n",
        "for i in range(n - 1, 0, -1):\n",
        "    print(\" \" * (n - i), end=\"\")\n",
        "    print(\"*\" * (2 * i - 1), end=\"\")\n",
        "    print(\" \" * 4, end=\"\")\n",
        "    print(\" \" * (n - i), end=\"\")\n",
        "    print(\"*\" * (2 * i - 1))\n",
        "\n",
        "print()  \n",
        "\n",
        "for i in range(1, n + 1):\n",
        "    print(\" \" * (n - i), end=\"\")\n",
        "    print(\"*\" * (2 * i - 1), end=\"\")\n",
        "    print(\" \" * 4, end=\"\")\n",
        "    print(\" \" * (n - i), end=\"\")\n",
        "    print(\"*\" * (2 * i - 1))\n",
        "\n",
        "for i in range(n - 1, 0, -1):\n",
        "    print(\" \" * (n - i), end=\"\")\n",
        "    print(\"*\" * (2 * i - 1), end=\"\")\n",
        "    print(\" \" * 4, end=\"\")\n",
        "    print(\" \" * (n - i), end=\"\")\n",
        "    print(\"*\" * (2 * i - 1))\n",
        "\n"
      ],
      "metadata": {
        "id": "TXJaIVbYI_Cd",
        "outputId": "5ce43261-0f03-4d29-a06d-6f50a5439967",
        "colab": {
          "base_uri": "https://localhost:8080/"
        }
      },
      "execution_count": 17,
      "outputs": [
        {
          "output_type": "stream",
          "name": "stdout",
          "text": [
            "nを入力５\n",
            "    *        *\n",
            "   ***       ***\n",
            "  *****      *****\n",
            " *******     *******\n",
            "*********    *********\n",
            " *******     *******\n",
            "  *****      *****\n",
            "   ***       ***\n",
            "    *        *\n",
            "\n",
            "    *        *\n",
            "   ***       ***\n",
            "  *****      *****\n",
            " *******     *******\n",
            "*********    *********\n",
            " *******     *******\n",
            "  *****      *****\n",
            "   ***       ***\n",
            "    *        *\n"
          ]
        }
      ]
    }
  ]
}