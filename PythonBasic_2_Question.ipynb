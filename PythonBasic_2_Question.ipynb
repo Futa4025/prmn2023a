{
  "nbformat": 4,
  "nbformat_minor": 0,
  "metadata": {
    "colab": {
      "provenance": [],
      "include_colab_link": true
    },
    "kernelspec": {
      "name": "python3",
      "display_name": "Python 3"
    },
    "language_info": {
      "name": "python"
    }
  },
  "cells": [
    {
      "cell_type": "markdown",
      "metadata": {
        "id": "view-in-github",
        "colab_type": "text"
      },
      "source": [
        "<a href=\"https://colab.research.google.com/github/Futa4025/prmn2023a/blob/main/PythonBasic_2_Question.ipynb\" target=\"_parent\"><img src=\"https://colab.research.google.com/assets/colab-badge.svg\" alt=\"Open In Colab\"/></a>"
      ]
    },
    {
      "cell_type": "markdown",
      "source": [
        "# 第2章 課題"
      ],
      "metadata": {
        "id": "C44SsXDACtHu"
      }
    },
    {
      "cell_type": "markdown",
      "source": [
        "## 課題1"
      ],
      "metadata": {
        "id": "OnkezWHRCwr9"
      }
    },
    {
      "cell_type": "markdown",
      "source": [
        "for文を使って、以下のように出力してください"
      ],
      "metadata": {
        "id": "q32rK-cECzCl"
      }
    },
    {
      "cell_type": "markdown",
      "source": [
        "![oSFeQoX.png](https://i.imgur.com/oSFeQoX.png)"
      ],
      "metadata": {
        "id": "FxMcxznVB6cI"
      }
    },
    {
      "cell_type": "code",
      "source": [
        "n=4\n",
        "for i in range(1,n+1):\n",
        "  print(' '*(n-i)+'*'*(2*i-1))"
      ],
      "metadata": {
        "id": "iBFSsrdRC5Zt",
        "colab": {
          "base_uri": "https://localhost:8080/"
        },
        "outputId": "fb78eb99-92f7-4554-fefe-da921612de2a"
      },
      "execution_count": 1,
      "outputs": [
        {
          "output_type": "stream",
          "name": "stdout",
          "text": [
            "   *\n",
            "  ***\n",
            " *****\n",
            "*******\n"
          ]
        }
      ]
    },
    {
      "cell_type": "code",
      "source": [
        "n=4\n",
        "for i in range(1,n+1):\n",
        "  print(' '*(n-i)+'*'*(2*i-1))"
      ],
      "metadata": {
        "colab": {
          "base_uri": "https://localhost:8080/"
        },
        "id": "Vwrl3HzbCDdu",
        "outputId": "9db1ea75-09da-4e34-8a96-14161221045a"
      },
      "execution_count": 2,
      "outputs": [
        {
          "output_type": "stream",
          "name": "stdout",
          "text": [
            "   *\n",
            "  ***\n",
            " *****\n",
            "*******\n"
          ]
        }
      ]
    },
    {
      "cell_type": "markdown",
      "source": [
        "## 課題2"
      ],
      "metadata": {
        "id": "gIn-UqGTCagu"
      }
    },
    {
      "cell_type": "markdown",
      "source": [
        "課題1の場合を`n=4`として、nを自分で設定して出力できるようにしてください"
      ],
      "metadata": {
        "id": "ltdiEdqYDFy8"
      }
    },
    {
      "cell_type": "markdown",
      "source": [
        "＜例＞ n=5の場合  \n",
        "![o5NjugQ.png](https://imgur.com/o5NjugQ.png)"
      ],
      "metadata": {
        "id": "hw0FM8BRDHz1"
      }
    },
    {
      "cell_type": "code",
      "source": [
        "# 入力用\n",
        "n = int(input('nを入力'))\n",
        "for i in range(1,n+1):\n",
        "  print(' '*(n-i)+'*'*(2*i-1))"
      ],
      "metadata": {
        "id": "upd76Tv-FrIB",
        "colab": {
          "base_uri": "https://localhost:8080/"
        },
        "outputId": "28c6da1f-f740-4cc2-9ce2-974c49523ad3"
      },
      "execution_count": 3,
      "outputs": [
        {
          "output_type": "stream",
          "name": "stdout",
          "text": [
            "nを入力5\n",
            "    *\n",
            "   ***\n",
            "  *****\n",
            " *******\n",
            "*********\n"
          ]
        }
      ]
    },
    {
      "cell_type": "markdown",
      "source": [
        "## 課題3"
      ],
      "metadata": {
        "id": "tLMJvwBDE7wT"
      }
    },
    {
      "cell_type": "markdown",
      "source": [
        "for文を使って、以下のように出力してください"
      ],
      "metadata": {
        "id": "vZNvWsG7E99q"
      }
    },
    {
      "cell_type": "markdown",
      "source": [
        "![oSirXec.png](https://imgur.com/oSirXec.png)"
      ],
      "metadata": {
        "id": "ijOV-ilXGDNR"
      }
    },
    {
      "cell_type": "code",
      "source": [
        "# 入力用\n",
        "n=4\n",
        "for i in range(1,n+1):\n",
        "   print(' '*(n-i)+'*'*(2*i-1))\n",
        "for i in range(n,0,-1):\n",
        "   print(' '*(n-i)+'*'*(2*i-1))"
      ],
      "metadata": {
        "id": "Q5Ob9uZpGIE3",
        "colab": {
          "base_uri": "https://localhost:8080/"
        },
        "outputId": "932eb786-f0bd-47c7-8ff3-e3b8f9b7d1d5"
      },
      "execution_count": 4,
      "outputs": [
        {
          "output_type": "stream",
          "name": "stdout",
          "text": [
            "   *\n",
            "  ***\n",
            " *****\n",
            "*******\n",
            "*******\n",
            " *****\n",
            "  ***\n",
            "   *\n"
          ]
        }
      ]
    },
    {
      "cell_type": "markdown",
      "source": [
        "## 課題4"
      ],
      "metadata": {
        "id": "Oh7whOPkGQ3I"
      }
    },
    {
      "cell_type": "markdown",
      "source": [
        "課題3の場合を`n=4`として、nを自分で設定して出力できるようにしてください"
      ],
      "metadata": {
        "id": "PnvT8MQbGS03"
      }
    },
    {
      "cell_type": "markdown",
      "source": [
        "＜例＞ n=5の場合  \n",
        "\n",
        "![my4J17V.png](https://i.imgur.com/my4J17V.png)"
      ],
      "metadata": {
        "id": "ZujkAbVMGzhn"
      }
    },
    {
      "cell_type": "code",
      "source": [
        "# 入力用\n",
        "n = int(input('nを入力'))\n",
        "for i in range(1,n+1):\n",
        "   print(' '*(n-i)+'*'*(2*i-1))\n",
        "for i in range(n,0,-1):\n",
        "   print(' '*(n-i)+'*'*(2*i-1))"
      ],
      "metadata": {
        "id": "hCFNQ7mWG99u",
        "colab": {
          "base_uri": "https://localhost:8080/"
        },
        "outputId": "a6e8b6a5-db9b-43ca-c8c0-a0c6f5cc4ccd"
      },
      "execution_count": 5,
      "outputs": [
        {
          "output_type": "stream",
          "name": "stdout",
          "text": [
            "nを入力5\n",
            "    *\n",
            "   ***\n",
            "  *****\n",
            " *******\n",
            "*********\n",
            "*********\n",
            " *******\n",
            "  *****\n",
            "   ***\n",
            "    *\n"
          ]
        }
      ]
    },
    {
      "cell_type": "markdown",
      "source": [
        "## 課題5"
      ],
      "metadata": {
        "id": "R2MvOK4wHJlK"
      }
    },
    {
      "cell_type": "markdown",
      "source": [
        "for文を使って、以下のように出力してください"
      ],
      "metadata": {
        "id": "ddMIUoaKHcwd"
      }
    },
    {
      "cell_type": "markdown",
      "source": [
        "![vDUi5eM.png](https://imgur.com/vDUi5eM.png)"
      ],
      "metadata": {
        "id": "CD1cVUlWHLVO"
      }
    },
    {
      "cell_type": "code",
      "source": [
        "\n",
        "for i in range(1,n+1):\n",
        "  if(i==n):\n",
        "    x=n-i\n",
        "    y=2*i-1\n",
        "    print(' '*x+'*'*y+'*'*(y-1))\n",
        "  else:\n",
        "    x=n-i\n",
        "    y=2*i-1\n",
        "    z=-2*i+(2*n-1)\n",
        "    print(' '*x+'*'*y+' '*z+'*'*y)\n",
        "for j in range(n,1,-1):\n",
        "  x=(n+1)-j\n",
        "  y=(j-1)*2-1\n",
        "  z=-2*j+(2*n+1)\n",
        "  print(' '*x+'*'*y+' '*z+'*'*y)"
      ],
      "metadata": {
        "id": "C9PCZBrcC0r2",
        "outputId": "b3ab0c33-541a-4fe9-c5ff-d1d76b8cc200",
        "colab": {
          "base_uri": "https://localhost:8080/"
        }
      },
      "execution_count": 9,
      "outputs": [
        {
          "output_type": "stream",
          "name": "stdout",
          "text": [
            "    *       *\n",
            "   ***     ***\n",
            "  *****   *****\n",
            " ******* *******\n",
            "*****************\n",
            " ******* *******\n",
            "  *****   *****\n",
            "   ***     ***\n",
            "    *       *\n"
          ]
        }
      ]
    },
    {
      "cell_type": "markdown",
      "source": [
        "## 課題6"
      ],
      "metadata": {
        "id": "oubbafOBHerl"
      }
    },
    {
      "cell_type": "markdown",
      "source": [
        "課題5の場合を`n=4`として、nを自分で設定して出力できるようにしてください"
      ],
      "metadata": {
        "id": "7SzgFdC-HzG9"
      }
    },
    {
      "cell_type": "markdown",
      "source": [
        "＜例＞ n=5の場合  \n",
        "\n",
        "![udkVlYG.png](https://imgur.com/udkVlYG.png)"
      ],
      "metadata": {
        "id": "LY8g9PVPH2OW"
      }
    },
    {
      "cell_type": "code",
      "source": [
        "n = int(input('nを入力: '))\n",
        "\n",
        "for i in range(1,n+1):\n",
        "  if(i==n):\n",
        "    x=n-i\n",
        "    y=2*i-1\n",
        "    print(' '*x+'*'*y+'*'*(y-1))\n",
        "  else:\n",
        "    x=n-i\n",
        "    y=2*i-1\n",
        "    z=-2*i+(2*n-1)\n",
        "    print(' '*x+'*'*y+' '*z+'*'*y)\n",
        "for j in range(n,1,-1):\n",
        "  x=(n+1)-j\n",
        "  y=(j-1)*2-1\n",
        "  z=-2*j+(2*n+1)\n",
        "  print(' '*x+'*'*y+' '*z+'*'*y)\n",
        "\n",
        "\n"
      ],
      "metadata": {
        "id": "XZOK5ulbH-tu",
        "colab": {
          "base_uri": "https://localhost:8080/"
        },
        "outputId": "d760e7c5-52c7-4055-d928-a9cd9d20fb4f"
      },
      "execution_count": 11,
      "outputs": [
        {
          "output_type": "stream",
          "name": "stdout",
          "text": [
            "nを入力: 5\n",
            "    *       *\n",
            "   ***     ***\n",
            "  *****   *****\n",
            " ******* *******\n",
            "*****************\n",
            " ******* *******\n",
            "  *****   *****\n",
            "   ***     ***\n",
            "    *       *\n"
          ]
        }
      ]
    },
    {
      "cell_type": "markdown",
      "source": [
        "## 課題7"
      ],
      "metadata": {
        "id": "ouqTUmPQIKGF"
      }
    },
    {
      "cell_type": "markdown",
      "source": [
        "for文を使って、以下のように出力してください"
      ],
      "metadata": {
        "id": "WHSxdOHuIMRM"
      }
    },
    {
      "cell_type": "markdown",
      "source": [
        "![IuP0M16.png](https://imgur.com/IuP0M16.png)"
      ],
      "metadata": {
        "id": "-G--WFTkIM8s"
      }
    },
    {
      "cell_type": "code",
      "source": [
        "n=4\n",
        "for i in range(1,n+1):\n",
        "  if(i==4):\n",
        "    x=4-i\n",
        "    y=2*i-1\n",
        "    print(' '*x+'*'*y+'*'*(y-1))\n",
        "  else:\n",
        "    x=4-i\n",
        "    y=2*i-1\n",
        "    z=-2*i+7\n",
        "    print(' '*x+'*'*y+' '*z+'*'*y)\n",
        "for j in range(n,1,-1):\n",
        "  x=(n+1)-j\n",
        "  y=(j-1)*2-1\n",
        "  z=-2*i+(2*n+1)\n",
        "  print(' '*x+'*'*y+' '*z+'*'*y)\n",
        "for i in range(2,n+1):\n",
        "  if(i==n):\n",
        "    x=n-i\n",
        "    y=2*i-1\n",
        "    print(' '*x+'*'*y+'*'*(y-1))\n",
        "  else:\n",
        "    x=n-i\n",
        "    y=2*i-1\n",
        "    z=-2*i+(2*n-1)\n",
        "    print(' '*x+'*'*y+' '*z+'*'*y)\n",
        "for j in range(n,1,-1):\n",
        "  x=(n+1)-j\n",
        "  y=(j-1)*2-1\n",
        "  z=-2*j+(2*n+1)\n",
        "  print(' '*x+'*'*y+' '*z+'*'*y)\n"
      ],
      "metadata": {
        "id": "crxgRG0aHEvP",
        "outputId": "801149fa-5b65-4e71-e3f9-993865db4e9d",
        "colab": {
          "base_uri": "https://localhost:8080/"
        }
      },
      "execution_count": 12,
      "outputs": [
        {
          "output_type": "stream",
          "name": "stdout",
          "text": [
            "   *     *\n",
            "  ***   ***\n",
            " ***** *****\n",
            "*************\n",
            " ***** *****\n",
            "  *** ***\n",
            "   * *\n",
            "  ***   ***\n",
            " ***** *****\n",
            "*************\n",
            " ***** *****\n",
            "  ***   ***\n",
            "   *     *\n"
          ]
        }
      ]
    },
    {
      "cell_type": "markdown",
      "source": [
        "## 課題8"
      ],
      "metadata": {
        "id": "31u0ExX2IjWj"
      }
    },
    {
      "cell_type": "markdown",
      "source": [
        "課題7の場合を`n=4`として、nを自分で設定して出力できるようにしてください"
      ],
      "metadata": {
        "id": "zeOvmKarInpz"
      }
    },
    {
      "cell_type": "markdown",
      "source": [
        "＜例＞ n=5の場合  \n",
        "\n",
        "![AlTnu1k.png](https://imgur.com/AlTnu1k.png)"
      ],
      "metadata": {
        "id": "2uLR5sbKIov2"
      }
    },
    {
      "cell_type": "code",
      "source": [
        "# 入力用\n",
        "n = int(input('nを入力'))\n",
        "for i in range(1,n+1):\n",
        "  if(i==4):\n",
        "    x=4-i\n",
        "    y=2*i-1\n",
        "    print(' '*x+'*'*y+'*'*(y-1))\n",
        "  else:\n",
        "    x=4-i\n",
        "    y=2*i-1\n",
        "    z=-2*i+7\n",
        "    print(' '*x+'*'*y+' '*z+'*'*y)\n",
        "for j in range(n,1,-1):\n",
        "  x=(n+1)-j\n",
        "  y=(j-1)*2-1\n",
        "  z=-2*i+(2*n+1)\n",
        "  print(' '*x+'*'*y+' '*z+'*'*y)\n",
        "for i in range(2,n+1):\n",
        "  if(i==n):\n",
        "    x=n-i\n",
        "    y=2*i-1\n",
        "    print(' '*x+'*'*y+'*'*(y-1))\n",
        "  else:\n",
        "    x=n-i\n",
        "    y=2*i-1\n",
        "    z=-2*i+(2*n-1)\n",
        "    print(' '*x+'*'*y+' '*z+'*'*y)\n",
        "for j in range(n,1,-1):\n",
        "  x=(n+1)-j\n",
        "  y=(j-1)*2-1\n",
        "  z=-2*j+(2*n+1)\n",
        "  print(' '*x+'*'*y+' '*z+'*'*y)\n",
        "\n"
      ],
      "metadata": {
        "id": "TXJaIVbYI_Cd",
        "colab": {
          "base_uri": "https://localhost:8080/"
        },
        "outputId": "b24dea90-7a57-46f0-c7f0-67e2a779cf45"
      },
      "execution_count": 13,
      "outputs": [
        {
          "output_type": "stream",
          "name": "stdout",
          "text": [
            "nを入力5\n",
            "   *     *\n",
            "  ***   ***\n",
            " ***** *****\n",
            "*************\n",
            "******************\n",
            " ******* *******\n",
            "  ***** *****\n",
            "   *** ***\n",
            "    * *\n",
            "   ***     ***\n",
            "  *****   *****\n",
            " ******* *******\n",
            "*****************\n",
            " ******* *******\n",
            "  *****   *****\n",
            "   ***     ***\n",
            "    *       *\n"
          ]
        }
      ]
    }
  ]
}